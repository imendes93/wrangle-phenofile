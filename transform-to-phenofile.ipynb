{
 "cells": [
  {
   "cell_type": "code",
   "execution_count": 1,
   "metadata": {},
   "outputs": [],
   "source": [
    "library(readr)"
   ]
  },
  {
   "cell_type": "code",
   "execution_count": 2,
   "metadata": {},
   "outputs": [],
   "source": [
    "input_file <- \"mounted-data/sex-height-cohort.csv\""
   ]
  },
  {
   "cell_type": "code",
   "execution_count": 3,
   "metadata": {},
   "outputs": [
    {
     "name": "stderr",
     "output_type": "stream",
     "text": [
      "Parsed with column specification:\n",
      "cols(\n",
      "  i = \u001b[32mcol_double()\u001b[39m,\n",
      "  `Height-2.0` = \u001b[32mcol_double()\u001b[39m,\n",
      "  `Genetic_sex-0.0` = \u001b[31mcol_character()\u001b[39m\n",
      ")\n",
      "\n"
     ]
    }
   ],
   "source": [
    "df <- readr::read_csv(file = input_file)"
   ]
  },
  {
   "cell_type": "code",
   "execution_count": 4,
   "metadata": {},
   "outputs": [
    {
     "data": {
      "text/html": [
       "<table>\n",
       "<caption>A tibble: 6 × 3</caption>\n",
       "<thead>\n",
       "\t<tr><th scope=col>i</th><th scope=col>Height-2.0</th><th scope=col>Genetic_sex-0.0</th></tr>\n",
       "\t<tr><th scope=col>&lt;dbl&gt;</th><th scope=col>&lt;dbl&gt;</th><th scope=col>&lt;chr&gt;</th></tr>\n",
       "</thead>\n",
       "<tbody>\n",
       "\t<tr><td>1005108</td><td>186</td><td>Female</td></tr>\n",
       "\t<tr><td>1009694</td><td>187</td><td>Female</td></tr>\n",
       "\t<tr><td>1010785</td><td>189</td><td>Male  </td></tr>\n",
       "\t<tr><td>1015028</td><td>186</td><td>Female</td></tr>\n",
       "\t<tr><td>1020361</td><td>186</td><td>Female</td></tr>\n",
       "\t<tr><td>1025626</td><td>189</td><td>Male  </td></tr>\n",
       "</tbody>\n",
       "</table>\n"
      ],
      "text/latex": [
       "A tibble: 6 × 3\n",
       "\\begin{tabular}{lll}\n",
       " i & Height-2.0 & Genetic\\_sex-0.0\\\\\n",
       " <dbl> & <dbl> & <chr>\\\\\n",
       "\\hline\n",
       "\t 1005108 & 186 & Female\\\\\n",
       "\t 1009694 & 187 & Female\\\\\n",
       "\t 1010785 & 189 & Male  \\\\\n",
       "\t 1015028 & 186 & Female\\\\\n",
       "\t 1020361 & 186 & Female\\\\\n",
       "\t 1025626 & 189 & Male  \\\\\n",
       "\\end{tabular}\n"
      ],
      "text/markdown": [
       "\n",
       "A tibble: 6 × 3\n",
       "\n",
       "| i &lt;dbl&gt; | Height-2.0 &lt;dbl&gt; | Genetic_sex-0.0 &lt;chr&gt; |\n",
       "|---|---|---|\n",
       "| 1005108 | 186 | Female |\n",
       "| 1009694 | 187 | Female |\n",
       "| 1010785 | 189 | Male   |\n",
       "| 1015028 | 186 | Female |\n",
       "| 1020361 | 186 | Female |\n",
       "| 1025626 | 189 | Male   |\n",
       "\n"
      ],
      "text/plain": [
       "  i       Height-2.0 Genetic_sex-0.0\n",
       "1 1005108 186        Female         \n",
       "2 1009694 187        Female         \n",
       "3 1010785 189        Male           \n",
       "4 1015028 186        Female         \n",
       "5 1020361 186        Female         \n",
       "6 1025626 189        Male           "
      ]
     },
     "metadata": {},
     "output_type": "display_data"
    }
   ],
   "source": [
    "head(df)"
   ]
  },
  {
   "cell_type": "code",
   "execution_count": 5,
   "metadata": {},
   "outputs": [
    {
     "data": {
      "text/html": [
       "<table>\n",
       "<caption>A tibble: 6 × 4</caption>\n",
       "<thead>\n",
       "\t<tr><th scope=col>FID</th><th scope=col>IID</th><th scope=col>sex</th><th scope=col>height</th></tr>\n",
       "\t<tr><th scope=col>&lt;dbl&gt;</th><th scope=col>&lt;dbl&gt;</th><th scope=col>&lt;chr&gt;</th><th scope=col>&lt;dbl&gt;</th></tr>\n",
       "</thead>\n",
       "<tbody>\n",
       "\t<tr><td>1005108</td><td>1005108</td><td>Female</td><td>186</td></tr>\n",
       "\t<tr><td>1009694</td><td>1009694</td><td>Female</td><td>187</td></tr>\n",
       "\t<tr><td>1010785</td><td>1010785</td><td>Male  </td><td>189</td></tr>\n",
       "\t<tr><td>1015028</td><td>1015028</td><td>Female</td><td>186</td></tr>\n",
       "\t<tr><td>1020361</td><td>1020361</td><td>Female</td><td>186</td></tr>\n",
       "\t<tr><td>1025626</td><td>1025626</td><td>Male  </td><td>189</td></tr>\n",
       "</tbody>\n",
       "</table>\n"
      ],
      "text/latex": [
       "A tibble: 6 × 4\n",
       "\\begin{tabular}{llll}\n",
       " FID & IID & sex & height\\\\\n",
       " <dbl> & <dbl> & <chr> & <dbl>\\\\\n",
       "\\hline\n",
       "\t 1005108 & 1005108 & Female & 186\\\\\n",
       "\t 1009694 & 1009694 & Female & 187\\\\\n",
       "\t 1010785 & 1010785 & Male   & 189\\\\\n",
       "\t 1015028 & 1015028 & Female & 186\\\\\n",
       "\t 1020361 & 1020361 & Female & 186\\\\\n",
       "\t 1025626 & 1025626 & Male   & 189\\\\\n",
       "\\end{tabular}\n"
      ],
      "text/markdown": [
       "\n",
       "A tibble: 6 × 4\n",
       "\n",
       "| FID &lt;dbl&gt; | IID &lt;dbl&gt; | sex &lt;chr&gt; | height &lt;dbl&gt; |\n",
       "|---|---|---|---|\n",
       "| 1005108 | 1005108 | Female | 186 |\n",
       "| 1009694 | 1009694 | Female | 187 |\n",
       "| 1010785 | 1010785 | Male   | 189 |\n",
       "| 1015028 | 1015028 | Female | 186 |\n",
       "| 1020361 | 1020361 | Female | 186 |\n",
       "| 1025626 | 1025626 | Male   | 189 |\n",
       "\n"
      ],
      "text/plain": [
       "  FID     IID     sex    height\n",
       "1 1005108 1005108 Female 186   \n",
       "2 1009694 1009694 Female 187   \n",
       "3 1010785 1010785 Male   189   \n",
       "4 1015028 1015028 Female 186   \n",
       "5 1020361 1020361 Female 186   \n",
       "6 1025626 1025626 Male   189   "
      ]
     },
     "metadata": {},
     "output_type": "display_data"
    }
   ],
   "source": [
    "df$FID <- df$i\n",
    "df$IID <- df$i\n",
    "df$i <- NULL\n",
    "df$sex <- df$`Genetic_sex-0.0` \n",
    "df$`Genetic_sex-0.0`  <- NULL\n",
    "df$height <- df$`Height-2.0`\n",
    "df$`Height-2.0` <- NULL\n",
    "head(df)"
   ]
  },
  {
   "cell_type": "code",
   "execution_count": 6,
   "metadata": {},
   "outputs": [
    {
     "data": {
      "text/html": [
       "<table>\n",
       "<caption>A tibble: 6 × 5</caption>\n",
       "<thead>\n",
       "\t<tr><th scope=col>FID</th><th scope=col>IID</th><th scope=col>sex</th><th scope=col>height</th><th scope=col>PHE</th></tr>\n",
       "\t<tr><th scope=col>&lt;dbl&gt;</th><th scope=col>&lt;dbl&gt;</th><th scope=col>&lt;chr&gt;</th><th scope=col>&lt;dbl&gt;</th><th scope=col>&lt;dbl&gt;</th></tr>\n",
       "</thead>\n",
       "<tbody>\n",
       "\t<tr><td>1005108</td><td>1005108</td><td>Female</td><td>186</td><td>0</td></tr>\n",
       "\t<tr><td>1009694</td><td>1009694</td><td>Female</td><td>187</td><td>0</td></tr>\n",
       "\t<tr><td>1010785</td><td>1010785</td><td>Male  </td><td>189</td><td>1</td></tr>\n",
       "\t<tr><td>1015028</td><td>1015028</td><td>Female</td><td>186</td><td>0</td></tr>\n",
       "\t<tr><td>1020361</td><td>1020361</td><td>Female</td><td>186</td><td>0</td></tr>\n",
       "\t<tr><td>1025626</td><td>1025626</td><td>Male  </td><td>189</td><td>1</td></tr>\n",
       "</tbody>\n",
       "</table>\n"
      ],
      "text/latex": [
       "A tibble: 6 × 5\n",
       "\\begin{tabular}{lllll}\n",
       " FID & IID & sex & height & PHE\\\\\n",
       " <dbl> & <dbl> & <chr> & <dbl> & <dbl>\\\\\n",
       "\\hline\n",
       "\t 1005108 & 1005108 & Female & 186 & 0\\\\\n",
       "\t 1009694 & 1009694 & Female & 187 & 0\\\\\n",
       "\t 1010785 & 1010785 & Male   & 189 & 1\\\\\n",
       "\t 1015028 & 1015028 & Female & 186 & 0\\\\\n",
       "\t 1020361 & 1020361 & Female & 186 & 0\\\\\n",
       "\t 1025626 & 1025626 & Male   & 189 & 1\\\\\n",
       "\\end{tabular}\n"
      ],
      "text/markdown": [
       "\n",
       "A tibble: 6 × 5\n",
       "\n",
       "| FID &lt;dbl&gt; | IID &lt;dbl&gt; | sex &lt;chr&gt; | height &lt;dbl&gt; | PHE &lt;dbl&gt; |\n",
       "|---|---|---|---|---|\n",
       "| 1005108 | 1005108 | Female | 186 | 0 |\n",
       "| 1009694 | 1009694 | Female | 187 | 0 |\n",
       "| 1010785 | 1010785 | Male   | 189 | 1 |\n",
       "| 1015028 | 1015028 | Female | 186 | 0 |\n",
       "| 1020361 | 1020361 | Female | 186 | 0 |\n",
       "| 1025626 | 1025626 | Male   | 189 | 1 |\n",
       "\n"
      ],
      "text/plain": [
       "  FID     IID     sex    height PHE\n",
       "1 1005108 1005108 Female 186    0  \n",
       "2 1009694 1009694 Female 187    0  \n",
       "3 1010785 1010785 Male   189    1  \n",
       "4 1015028 1015028 Female 186    0  \n",
       "5 1020361 1020361 Female 186    0  \n",
       "6 1025626 1025626 Male   189    1  "
      ]
     },
     "metadata": {},
     "output_type": "display_data"
    }
   ],
   "source": [
    "head(dplyr::mutate(df, PHE = ifelse(sex == 'Male', 1, 0)))"
   ]
  },
  {
   "cell_type": "code",
   "execution_count": 7,
   "metadata": {},
   "outputs": [
    {
     "data": {
      "text/html": [
       "<table>\n",
       "<caption>A tibble: 6 × 4</caption>\n",
       "<thead>\n",
       "\t<tr><th scope=col>FID</th><th scope=col>IID</th><th scope=col>height</th><th scope=col>PHE</th></tr>\n",
       "\t<tr><th scope=col>&lt;dbl&gt;</th><th scope=col>&lt;dbl&gt;</th><th scope=col>&lt;dbl&gt;</th><th scope=col>&lt;dbl&gt;</th></tr>\n",
       "</thead>\n",
       "<tbody>\n",
       "\t<tr><td>1005108</td><td>1005108</td><td>186</td><td>0</td></tr>\n",
       "\t<tr><td>1009694</td><td>1009694</td><td>187</td><td>0</td></tr>\n",
       "\t<tr><td>1010785</td><td>1010785</td><td>189</td><td>1</td></tr>\n",
       "\t<tr><td>1015028</td><td>1015028</td><td>186</td><td>0</td></tr>\n",
       "\t<tr><td>1020361</td><td>1020361</td><td>186</td><td>0</td></tr>\n",
       "\t<tr><td>1025626</td><td>1025626</td><td>189</td><td>1</td></tr>\n",
       "</tbody>\n",
       "</table>\n"
      ],
      "text/latex": [
       "A tibble: 6 × 4\n",
       "\\begin{tabular}{llll}\n",
       " FID & IID & height & PHE\\\\\n",
       " <dbl> & <dbl> & <dbl> & <dbl>\\\\\n",
       "\\hline\n",
       "\t 1005108 & 1005108 & 186 & 0\\\\\n",
       "\t 1009694 & 1009694 & 187 & 0\\\\\n",
       "\t 1010785 & 1010785 & 189 & 1\\\\\n",
       "\t 1015028 & 1015028 & 186 & 0\\\\\n",
       "\t 1020361 & 1020361 & 186 & 0\\\\\n",
       "\t 1025626 & 1025626 & 189 & 1\\\\\n",
       "\\end{tabular}\n"
      ],
      "text/markdown": [
       "\n",
       "A tibble: 6 × 4\n",
       "\n",
       "| FID &lt;dbl&gt; | IID &lt;dbl&gt; | height &lt;dbl&gt; | PHE &lt;dbl&gt; |\n",
       "|---|---|---|---|\n",
       "| 1005108 | 1005108 | 186 | 0 |\n",
       "| 1009694 | 1009694 | 187 | 0 |\n",
       "| 1010785 | 1010785 | 189 | 1 |\n",
       "| 1015028 | 1015028 | 186 | 0 |\n",
       "| 1020361 | 1020361 | 186 | 0 |\n",
       "| 1025626 | 1025626 | 189 | 1 |\n",
       "\n"
      ],
      "text/plain": [
       "  FID     IID     height PHE\n",
       "1 1005108 1005108 186    0  \n",
       "2 1009694 1009694 187    0  \n",
       "3 1010785 1010785 189    1  \n",
       "4 1015028 1015028 186    0  \n",
       "5 1020361 1020361 186    0  \n",
       "6 1025626 1025626 189    1  "
      ]
     },
     "metadata": {},
     "output_type": "display_data"
    }
   ],
   "source": [
    "df <- dplyr::mutate(df, PHE = ifelse(sex == 'Male', 1, 0))\n",
    "df$sex <- NULL\n",
    "head(df)"
   ]
  },
  {
   "cell_type": "code",
   "execution_count": 8,
   "metadata": {},
   "outputs": [],
   "source": [
    "readr::write_tsv(df, path = \"sex_binary_height_phenofile.phe\")"
   ]
  }
 ],
 "metadata": {
  "kernelspec": {
   "display_name": "R",
   "language": "R",
   "name": "ir"
  },
  "language_info": {
   "codemirror_mode": "r",
   "file_extension": ".r",
   "mimetype": "text/x-r-source",
   "name": "R",
   "pygments_lexer": "r",
   "version": "3.6.1"
  }
 },
 "nbformat": 4,
 "nbformat_minor": 4
}
