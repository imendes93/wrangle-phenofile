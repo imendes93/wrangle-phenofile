{
 "cells": [
  {
   "cell_type": "markdown",
   "id": "serious-mention",
   "metadata": {},
   "source": [
    "# Transform csv to phenofile"
   ]
  },
  {
   "cell_type": "markdown",
   "id": "bronze-emergency",
   "metadata": {},
   "source": [
    "## Imports"
   ]
  },
  {
   "cell_type": "code",
   "execution_count": 2,
   "id": "powerful-buffalo",
   "metadata": {},
   "outputs": [],
   "source": [
    "import sys\n",
    "import glob\n",
    "import json\n",
    "import pandas as pd\n",
    "from itertools import groupby\n",
    "import csv\n",
    "import numpy as np"
   ]
  },
  {
   "cell_type": "markdown",
   "id": "widespread-gardening",
   "metadata": {},
   "source": [
    "## Load data"
   ]
  },
  {
   "cell_type": "code",
   "execution_count": 32,
   "id": "innovative-obligation",
   "metadata": {},
   "outputs": [
    {
     "name": "stdout",
     "output_type": "stream",
     "text": [
      "i,Height-2.0,Genetic_sex-0.0\r\n",
      "\"1002062\",151,\"Female\"\r\n",
      "\"1006077\",150,\"Male\"\r\n",
      "\"1010580\",152,\"Male\"\r\n",
      "\"1040293\",151,\"Male\"\r\n",
      "\"1063992\",150,\"Male\"\r\n",
      "\"1077051\",151,\"Male\"\r\n",
      "\"1083887\",151,\"Male\"\r\n",
      "\"1084616\",153,\"Female\"\r\n",
      "\"1103009\",151,\"Female\"\r\n"
     ]
    }
   ],
   "source": [
    "c"
   ]
  },
  {
   "cell_type": "code",
   "execution_count": 4,
   "id": "broad-management",
   "metadata": {},
   "outputs": [
    {
     "data": {
      "text/html": [
       "<div>\n",
       "<style scoped>\n",
       "    .dataframe tbody tr th:only-of-type {\n",
       "        vertical-align: middle;\n",
       "    }\n",
       "\n",
       "    .dataframe tbody tr th {\n",
       "        vertical-align: top;\n",
       "    }\n",
       "\n",
       "    .dataframe thead th {\n",
       "        text-align: right;\n",
       "    }\n",
       "</style>\n",
       "<table border=\"1\" class=\"dataframe\">\n",
       "  <thead>\n",
       "    <tr style=\"text-align: right;\">\n",
       "      <th></th>\n",
       "      <th>i</th>\n",
       "      <th>Height-2.0</th>\n",
       "      <th>Genetic_sex-0.0</th>\n",
       "    </tr>\n",
       "  </thead>\n",
       "  <tbody>\n",
       "    <tr>\n",
       "      <th>0</th>\n",
       "      <td>1002062</td>\n",
       "      <td>151</td>\n",
       "      <td>Female</td>\n",
       "    </tr>\n",
       "    <tr>\n",
       "      <th>1</th>\n",
       "      <td>1006077</td>\n",
       "      <td>150</td>\n",
       "      <td>Male</td>\n",
       "    </tr>\n",
       "    <tr>\n",
       "      <th>2</th>\n",
       "      <td>1010580</td>\n",
       "      <td>152</td>\n",
       "      <td>Male</td>\n",
       "    </tr>\n",
       "    <tr>\n",
       "      <th>3</th>\n",
       "      <td>1040293</td>\n",
       "      <td>151</td>\n",
       "      <td>Male</td>\n",
       "    </tr>\n",
       "    <tr>\n",
       "      <th>4</th>\n",
       "      <td>1063992</td>\n",
       "      <td>150</td>\n",
       "      <td>Male</td>\n",
       "    </tr>\n",
       "  </tbody>\n",
       "</table>\n",
       "</div>"
      ],
      "text/plain": [
       "         i  Height-2.0 Genetic_sex-0.0\n",
       "0  1002062         151          Female\n",
       "1  1006077         150            Male\n",
       "2  1010580         152            Male\n",
       "3  1040293         151            Male\n",
       "4  1063992         150            Male"
      ]
     },
     "execution_count": 4,
     "metadata": {},
     "output_type": "execute_result"
    }
   ],
   "source": [
    "df_csv = pd.read_csv(\"data/cohort-test.csv\")\n",
    "df_csv.head()"
   ]
  },
  {
   "cell_type": "code",
   "execution_count": 33,
   "id": "senior-drilling",
   "metadata": {},
   "outputs": [
    {
     "name": "stdout",
     "output_type": "stream",
     "text": [
      "FID IID PAT MAT SEX PHE site batch\r\n",
      "1\t1\t0\t0\t1\t2\t2\t2\r\n",
      "2\t2\t0\t0\t1\t1\t1\t4\r\n",
      "3\t3\t0\t0\t1\t2\t1\t2\r\n",
      "4\t4\t0\t0\t1\t2\t1\t2\r\n",
      "5\t5\t0\t0\t2\t2\t2\t2\r\n",
      "6\t6\t0\t0\t2\t2\t3\t1\r\n",
      "7\t7\t0\t0\t2\t2\t3\t4\r\n",
      "8\t8\t0\t0\t2\t2\t3\t4\r\n",
      "9\t9\t0\t0\t2\t2\t3\t1\r\n"
     ]
    }
   ],
   "source": [
    "!head data/sample-batch-site.phe"
   ]
  },
  {
   "cell_type": "code",
   "execution_count": 10,
   "id": "internal-floating",
   "metadata": {},
   "outputs": [
    {
     "data": {
      "text/html": [
       "<div>\n",
       "<style scoped>\n",
       "    .dataframe tbody tr th:only-of-type {\n",
       "        vertical-align: middle;\n",
       "    }\n",
       "\n",
       "    .dataframe tbody tr th {\n",
       "        vertical-align: top;\n",
       "    }\n",
       "\n",
       "    .dataframe thead th {\n",
       "        text-align: right;\n",
       "    }\n",
       "</style>\n",
       "<table border=\"1\" class=\"dataframe\">\n",
       "  <thead>\n",
       "    <tr style=\"text-align: right;\">\n",
       "      <th></th>\n",
       "      <th>FID</th>\n",
       "      <th>IID</th>\n",
       "      <th>PAT</th>\n",
       "      <th>MAT</th>\n",
       "      <th>SEX</th>\n",
       "      <th>PHE</th>\n",
       "      <th>site</th>\n",
       "      <th>batch</th>\n",
       "    </tr>\n",
       "  </thead>\n",
       "  <tbody>\n",
       "    <tr>\n",
       "      <th>0</th>\n",
       "      <td>1</td>\n",
       "      <td>1</td>\n",
       "      <td>0</td>\n",
       "      <td>0</td>\n",
       "      <td>1</td>\n",
       "      <td>2</td>\n",
       "      <td>2</td>\n",
       "      <td>2</td>\n",
       "    </tr>\n",
       "    <tr>\n",
       "      <th>1</th>\n",
       "      <td>2</td>\n",
       "      <td>2</td>\n",
       "      <td>0</td>\n",
       "      <td>0</td>\n",
       "      <td>1</td>\n",
       "      <td>1</td>\n",
       "      <td>1</td>\n",
       "      <td>4</td>\n",
       "    </tr>\n",
       "    <tr>\n",
       "      <th>2</th>\n",
       "      <td>3</td>\n",
       "      <td>3</td>\n",
       "      <td>0</td>\n",
       "      <td>0</td>\n",
       "      <td>1</td>\n",
       "      <td>2</td>\n",
       "      <td>1</td>\n",
       "      <td>2</td>\n",
       "    </tr>\n",
       "    <tr>\n",
       "      <th>3</th>\n",
       "      <td>4</td>\n",
       "      <td>4</td>\n",
       "      <td>0</td>\n",
       "      <td>0</td>\n",
       "      <td>1</td>\n",
       "      <td>2</td>\n",
       "      <td>1</td>\n",
       "      <td>2</td>\n",
       "    </tr>\n",
       "    <tr>\n",
       "      <th>4</th>\n",
       "      <td>5</td>\n",
       "      <td>5</td>\n",
       "      <td>0</td>\n",
       "      <td>0</td>\n",
       "      <td>2</td>\n",
       "      <td>2</td>\n",
       "      <td>2</td>\n",
       "      <td>2</td>\n",
       "    </tr>\n",
       "  </tbody>\n",
       "</table>\n",
       "</div>"
      ],
      "text/plain": [
       "   FID  IID  PAT  MAT  SEX  PHE  site  batch\n",
       "0    1    1    0    0    1    2     2      2\n",
       "1    2    2    0    0    1    1     1      4\n",
       "2    3    3    0    0    1    2     1      2\n",
       "3    4    4    0    0    1    2     1      2\n",
       "4    5    5    0    0    2    2     2      2"
      ]
     },
     "execution_count": 10,
     "metadata": {},
     "output_type": "execute_result"
    }
   ],
   "source": [
    "df_phe = pd.read_csv(\"data/sample-batch-site.phe\", sep='\\t', \n",
    "                     names=['FID','IID','PAT','MAT','SEX','PHE','site','batch'],\n",
    "                     skiprows=[0])\n",
    "df_phe.head()"
   ]
  },
  {
   "cell_type": "markdown",
   "id": "blank-behalf",
   "metadata": {},
   "source": [
    "## Transform csv into phenofile"
   ]
  },
  {
   "cell_type": "code",
   "execution_count": 30,
   "id": "greenhouse-partner",
   "metadata": {},
   "outputs": [],
   "source": [
    "def decode_function(x):\n",
    "    if x == 'Male':\n",
    "        return 1\n",
    "    elif x == \"Female\":\n",
    "        return 2\n",
    "    else:\n",
    "        return x"
   ]
  },
  {
   "cell_type": "code",
   "execution_count": 31,
   "id": "improving-import",
   "metadata": {},
   "outputs": [
    {
     "data": {
      "text/html": [
       "<div>\n",
       "<style scoped>\n",
       "    .dataframe tbody tr th:only-of-type {\n",
       "        vertical-align: middle;\n",
       "    }\n",
       "\n",
       "    .dataframe tbody tr th {\n",
       "        vertical-align: top;\n",
       "    }\n",
       "\n",
       "    .dataframe thead th {\n",
       "        text-align: right;\n",
       "    }\n",
       "</style>\n",
       "<table border=\"1\" class=\"dataframe\">\n",
       "  <thead>\n",
       "    <tr style=\"text-align: right;\">\n",
       "      <th></th>\n",
       "      <th>FID</th>\n",
       "      <th>IID</th>\n",
       "      <th>HEIGHT</th>\n",
       "      <th>SEX</th>\n",
       "    </tr>\n",
       "  </thead>\n",
       "  <tbody>\n",
       "    <tr>\n",
       "      <th>0</th>\n",
       "      <td>1002062</td>\n",
       "      <td>1002062</td>\n",
       "      <td>151</td>\n",
       "      <td>2</td>\n",
       "    </tr>\n",
       "    <tr>\n",
       "      <th>1</th>\n",
       "      <td>1006077</td>\n",
       "      <td>1006077</td>\n",
       "      <td>150</td>\n",
       "      <td>1</td>\n",
       "    </tr>\n",
       "    <tr>\n",
       "      <th>2</th>\n",
       "      <td>1010580</td>\n",
       "      <td>1010580</td>\n",
       "      <td>152</td>\n",
       "      <td>1</td>\n",
       "    </tr>\n",
       "    <tr>\n",
       "      <th>3</th>\n",
       "      <td>1040293</td>\n",
       "      <td>1040293</td>\n",
       "      <td>151</td>\n",
       "      <td>1</td>\n",
       "    </tr>\n",
       "    <tr>\n",
       "      <th>4</th>\n",
       "      <td>1063992</td>\n",
       "      <td>1063992</td>\n",
       "      <td>150</td>\n",
       "      <td>1</td>\n",
       "    </tr>\n",
       "  </tbody>\n",
       "</table>\n",
       "</div>"
      ],
      "text/plain": [
       "       FID      IID  HEIGHT  SEX\n",
       "0  1002062  1002062     151    2\n",
       "1  1006077  1006077     150    1\n",
       "2  1010580  1010580     152    1\n",
       "3  1040293  1040293     151    1\n",
       "4  1063992  1063992     150    1"
      ]
     },
     "execution_count": 31,
     "metadata": {},
     "output_type": "execute_result"
    }
   ],
   "source": [
    "df_csv_phe = pd.DataFrame()\n",
    "\n",
    "for column in df_csv.columns:\n",
    "    if column == 'i':\n",
    "        df_csv_phe['FID'] = df_csv[column]\n",
    "        df_csv_phe['IID'] = df_csv[column]\n",
    "    else:\n",
    "        col_name = column.split('-')[0].upper()\n",
    "        if '_' in col_name:\n",
    "            col_name = col_name.split('_')[1]\n",
    "        df_csv_phe[col_name] = df_csv[column].map(decode_function)\n",
    "df_csv_phe.head()"
   ]
  },
  {
   "cell_type": "markdown",
   "id": "weighted-relation",
   "metadata": {},
   "source": [
    "## Save file "
   ]
  },
  {
   "cell_type": "code",
   "execution_count": 35,
   "id": "ordinary-convertible",
   "metadata": {},
   "outputs": [],
   "source": [
    "df_csv_phe.to_csv(\"data/converted_csv.phe\", sep='\\t', index=False)"
   ]
  },
  {
   "cell_type": "code",
   "execution_count": null,
   "id": "vital-parameter",
   "metadata": {},
   "outputs": [],
   "source": []
  }
 ],
 "metadata": {
  "kernelspec": {
   "display_name": "Python 3",
   "language": "python",
   "name": "python3"
  },
  "language_info": {
   "codemirror_mode": {
    "name": "ipython",
    "version": 3
   },
   "file_extension": ".py",
   "mimetype": "text/x-python",
   "name": "python",
   "nbconvert_exporter": "python",
   "pygments_lexer": "ipython3",
   "version": "3.8.5"
  }
 },
 "nbformat": 4,
 "nbformat_minor": 5
}
